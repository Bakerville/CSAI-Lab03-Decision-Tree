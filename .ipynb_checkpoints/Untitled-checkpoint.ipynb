{
 "cells": [
  {
   "cell_type": "code",
   "execution_count": 1,
   "id": "d8d1a82f",
   "metadata": {},
   "outputs": [],
   "source": [
    "using Pkg"
   ]
  },
  {
   "cell_type": "code",
   "execution_count": 2,
   "id": "4113a65b",
   "metadata": {},
   "outputs": [],
   "source": [
    "using CSV\n",
    "using DataFrames\n",
    "using StatsBase\n",
    "using Random"
   ]
  },
  {
   "cell_type": "code",
   "execution_count": 3,
   "id": "b0660b98",
   "metadata": {},
   "outputs": [
    {
     "data": {
      "text/plain": [
       "splitdf (generic function with 1 method)"
      ]
     },
     "execution_count": 3,
     "metadata": {},
     "output_type": "execute_result"
    }
   ],
   "source": [
    "function splitdf(df, pct)\n",
    "        @assert 0 <= pct <= 1\n",
    "        ids = collect(axes(df, 1))\n",
    "        shuffle!(ids)\n",
    "        sel = ids .<= nrow(df) .* pct\n",
    "        return view(df, sel, :), view(df, .!sel, :)\n",
    "end"
   ]
  },
  {
   "cell_type": "code",
   "execution_count": 4,
   "id": "0db6c0b0",
   "metadata": {},
   "outputs": [
    {
     "data": {
      "text/plain": [
       "regulazation_att (generic function with 1 method)"
      ]
     },
     "execution_count": 4,
     "metadata": {},
     "output_type": "execute_result"
    }
   ],
   "source": [
    "function regulazation_att(df,att,interval)\n",
    "    row = size(df)[1]\n",
    "    new = copy(df)\n",
    "    for i in 1:row\n",
    "        val = new[:,att][i]\n",
    "        if (val>=interval[1] && val<=interval[2])\n",
    "            new[i,att] = 1\n",
    "        else\n",
    "            new[i,att] = 2\n",
    "        end\n",
    "    end\n",
    "    return new\n",
    "end"
   ]
  },
  {
   "cell_type": "code",
   "execution_count": 5,
   "id": "ac06d6fd",
   "metadata": {},
   "outputs": [
    {
     "data": {
      "text/plain": [
       "regulazation (generic function with 1 method)"
      ]
     },
     "execution_count": 5,
     "metadata": {},
     "output_type": "execute_result"
    }
   ],
   "source": [
    "# Roi rac hoa cac thuoc tinh\n",
    "function regulazation(df)\n",
    "    new = regulazation_att(df,\"sepal.length\",(7.2,8))\n",
    "    new = regulazation_att(new,\"sepal.width\",(2,2.5))\n",
    "    new = regulazation_att(new,\"petal.length\",(1,2))\n",
    "    new = regulazation_att(new,\"petal.width\",(1.9,3))\n",
    "    return new\n",
    "end"
   ]
  },
  {
   "cell_type": "code",
   "execution_count": 6,
   "id": "9729904e",
   "metadata": {},
   "outputs": [
    {
     "data": {
      "text/plain": [
       "Entropy (generic function with 1 method)"
      ]
     },
     "execution_count": 6,
     "metadata": {},
     "output_type": "execute_result"
    }
   ],
   "source": [
    "# Tinh Entropy cua mot thuoc tinh\n",
    "function Entropy(df,att)\n",
    "    variety = [\"Setosa\",\"Versicolor\",\"Virginica\"]\n",
    "    size_df = size(df)[1]\n",
    "    entropy = 0\n",
    "    for i in unique(df[:,att])\n",
    "        entropy_class = 0\n",
    "        filter = df[:,att].== i\n",
    "        df_of_class = df[filter,[\"variety\"]]\n",
    "        size_class = size(df_of_class)[1]\n",
    "        for name in variety\n",
    "            filter_variety = df_of_class[:,\"variety\"].== name\n",
    "            value = size(df_of_class[filter_variety,:])[1]/size_class\n",
    "            if(value != 0)\n",
    "                value = -value*(log(value))\n",
    "                entropy_class+=value\n",
    "            end\n",
    "        end\n",
    "        entropy+=(size_class/size_df)*entropy_class\n",
    "    end\n",
    "    return entropy\n",
    "end"
   ]
  },
  {
   "cell_type": "code",
   "execution_count": 7,
   "id": "9e755ceb",
   "metadata": {},
   "outputs": [
    {
     "data": {
      "text/plain": [
       "sort_by_entropy (generic function with 1 method)"
      ]
     },
     "execution_count": 7,
     "metadata": {},
     "output_type": "execute_result"
    }
   ],
   "source": [
    "function sort_by_entropy(df)\n",
    "    att = names(df)\n",
    "    att = att[1:(length(att)-1)]\n",
    "    dict = Dict()\n",
    "    for i in att\n",
    "        entropy = Entropy(df,i)\n",
    "        dict[i] = entropy\n",
    "    end\n",
    "    sorted = (sort(collect(dict), by=x->x[2], rev=true))\n",
    "    result =[ i[1] for i in sorted]\n",
    "    return result\n",
    "end"
   ]
  },
  {
   "cell_type": "code",
   "execution_count": 8,
   "id": "0fe7e465",
   "metadata": {},
   "outputs": [
    {
     "data": {
      "text/plain": [
       "count_variety (generic function with 1 method)"
      ]
     },
     "execution_count": 8,
     "metadata": {},
     "output_type": "execute_result"
    }
   ],
   "source": [
    "function count_variety(df)\n",
    "    variety = df[:,\"variety\"]\n",
    "    dict = Dict()\n",
    "    for i in unique(variety)\n",
    "        count = 0\n",
    "        for j in 1:size(variety)[1]\n",
    "            if(variety[j] == i)\n",
    "                count+=1\n",
    "            end\n",
    "        end\n",
    "        dict[i] = count\n",
    "    end\n",
    "    return dict\n",
    "end"
   ]
  },
  {
   "cell_type": "code",
   "execution_count": 9,
   "id": "1133537c",
   "metadata": {},
   "outputs": [
    {
     "data": {
      "text/plain": [
       "check_classified (generic function with 1 method)"
      ]
     },
     "execution_count": 9,
     "metadata": {},
     "output_type": "execute_result"
    }
   ],
   "source": [
    "function check_classified(dict_rules, data)\n",
    "    new = copy(data)\n",
    "    variety = [\"Setosa\",\"Versicolor\",\"Virginica\"]\n",
    "    for (i,j) in dict_rules\n",
    "        filter = new[:,i].==j\n",
    "        new = new[filter,:]\n",
    "    end\n",
    "    num_class = length(unique(new[:,\"variety\"]))\n",
    "    if (num_class == 1)\n",
    "        return unique(new[:,\"variety\"])[1]\n",
    "    end\n",
    "    return nothing\n",
    "end"
   ]
  },
  {
   "cell_type": "code",
   "execution_count": 10,
   "id": "95554fc4",
   "metadata": {},
   "outputs": [
    {
     "data": {
      "text/plain": [
       "decision_tree (generic function with 1 method)"
      ]
     },
     "execution_count": 10,
     "metadata": {},
     "output_type": "execute_result"
    }
   ],
   "source": [
    "function decision_tree(training_set,attribute,parent,result)\n",
    "    if(attribute==[])\n",
    "        return \n",
    "    end\n",
    "    data = copy(training_set)\n",
    "    att = pop!(attribute)\n",
    "    for i in unique(data[:,att])\n",
    "        child_node = copy(parent)\n",
    "        child_node[att] =i\n",
    "        class = check_classified(child_node,training_set)\n",
    "        if(class != nothing)\n",
    "            rule = copy(child_node)\n",
    "            rule[\"variety\"] = class\n",
    "            push!(result,rule)\n",
    "        else\n",
    "            decision_tree(training_set,attribute,child_node,result)\n",
    "        end\n",
    "    end\n",
    "end"
   ]
  },
  {
   "cell_type": "code",
   "execution_count": 11,
   "id": "dcf9ef44",
   "metadata": {},
   "outputs": [
    {
     "data": {
      "text/plain": [
       "classify (generic function with 1 method)"
      ]
     },
     "execution_count": 11,
     "metadata": {},
     "output_type": "execute_result"
    }
   ],
   "source": [
    "function classify(X,rules)\n",
    "    name = names(X)\n",
    "    name = name[1:length(name)-1]\n",
    "    for rule in rules\n",
    "        flag = 0\n",
    "        for (i,j) in rule\n",
    "            if X[i]!=j\n",
    "                flag = 1\n",
    "                break\n",
    "            end\n",
    "        end\n",
    "        if(flag == 0)\n",
    "            return rule[\"variety\"]\n",
    "        end\n",
    "    end\n",
    "    return \"Versicolor\"\n",
    "end"
   ]
  },
  {
   "cell_type": "code",
   "execution_count": 12,
   "id": "54dcdc40",
   "metadata": {},
   "outputs": [
    {
     "data": {
      "text/plain": [
       "fit (generic function with 1 method)"
      ]
     },
     "execution_count": 12,
     "metadata": {},
     "output_type": "execute_result"
    }
   ],
   "source": [
    "function fit(test_set, rules)\n",
    "    variety = []\n",
    "    for i in 1:size(test_set)[1]\n",
    "        X = test_set[i,:]\n",
    "        brand = classify(X,rules)\n",
    "        push!(variety,brand)\n",
    "    end\n",
    "    test_variety = test_set[:,\"variety\"]\n",
    "    count = 0\n",
    "    for i in 1:length(test_variety)\n",
    "        if(variety[i]==test_variety[i])\n",
    "            count+=1\n",
    "        end\n",
    "    end\n",
    "    return (count*100)/length(variety), variety\n",
    "end"
   ]
  },
  {
   "cell_type": "code",
   "execution_count": 13,
   "id": "5f4a0f71",
   "metadata": {},
   "outputs": [
    {
     "data": {
      "text/html": [
       "<div class=\"data-frame\"><p>50 rows × 5 columns</p><table class=\"data-frame\"><thead><tr><th></th><th>sepal.length</th><th>sepal.width</th><th>petal.length</th><th>petal.width</th><th>variety</th></tr><tr><th></th><th title=\"Float64\">Float64</th><th title=\"Float64\">Float64</th><th title=\"Float64\">Float64</th><th title=\"Float64\">Float64</th><th title=\"String15\">String15</th></tr></thead><tbody><tr><th>1</th><td>2.0</td><td>2.0</td><td>1.0</td><td>2.0</td><td>Setosa</td></tr><tr><th>2</th><td>2.0</td><td>2.0</td><td>1.0</td><td>2.0</td><td>Setosa</td></tr><tr><th>3</th><td>2.0</td><td>2.0</td><td>1.0</td><td>2.0</td><td>Setosa</td></tr><tr><th>4</th><td>2.0</td><td>2.0</td><td>1.0</td><td>2.0</td><td>Setosa</td></tr><tr><th>5</th><td>2.0</td><td>2.0</td><td>1.0</td><td>2.0</td><td>Setosa</td></tr><tr><th>6</th><td>2.0</td><td>2.0</td><td>1.0</td><td>2.0</td><td>Setosa</td></tr><tr><th>7</th><td>2.0</td><td>2.0</td><td>1.0</td><td>2.0</td><td>Setosa</td></tr><tr><th>8</th><td>2.0</td><td>2.0</td><td>1.0</td><td>2.0</td><td>Setosa</td></tr><tr><th>9</th><td>2.0</td><td>2.0</td><td>1.0</td><td>2.0</td><td>Setosa</td></tr><tr><th>10</th><td>2.0</td><td>2.0</td><td>1.0</td><td>2.0</td><td>Setosa</td></tr><tr><th>11</th><td>2.0</td><td>2.0</td><td>1.0</td><td>2.0</td><td>Setosa</td></tr><tr><th>12</th><td>2.0</td><td>2.0</td><td>1.0</td><td>2.0</td><td>Setosa</td></tr><tr><th>13</th><td>2.0</td><td>2.0</td><td>1.0</td><td>2.0</td><td>Setosa</td></tr><tr><th>14</th><td>2.0</td><td>2.0</td><td>1.0</td><td>2.0</td><td>Setosa</td></tr><tr><th>15</th><td>2.0</td><td>2.0</td><td>1.0</td><td>2.0</td><td>Setosa</td></tr><tr><th>16</th><td>2.0</td><td>2.0</td><td>1.0</td><td>2.0</td><td>Setosa</td></tr><tr><th>17</th><td>2.0</td><td>2.0</td><td>1.0</td><td>2.0</td><td>Setosa</td></tr><tr><th>18</th><td>2.0</td><td>2.0</td><td>2.0</td><td>2.0</td><td>Versicolor</td></tr><tr><th>19</th><td>2.0</td><td>2.0</td><td>2.0</td><td>2.0</td><td>Versicolor</td></tr><tr><th>20</th><td>2.0</td><td>1.0</td><td>2.0</td><td>2.0</td><td>Versicolor</td></tr><tr><th>21</th><td>2.0</td><td>2.0</td><td>2.0</td><td>2.0</td><td>Versicolor</td></tr><tr><th>22</th><td>2.0</td><td>1.0</td><td>2.0</td><td>2.0</td><td>Versicolor</td></tr><tr><th>23</th><td>2.0</td><td>1.0</td><td>2.0</td><td>2.0</td><td>Versicolor</td></tr><tr><th>24</th><td>2.0</td><td>1.0</td><td>2.0</td><td>2.0</td><td>Versicolor</td></tr><tr><th>25</th><td>2.0</td><td>2.0</td><td>2.0</td><td>2.0</td><td>Versicolor</td></tr><tr><th>26</th><td>2.0</td><td>2.0</td><td>2.0</td><td>2.0</td><td>Versicolor</td></tr><tr><th>27</th><td>2.0</td><td>1.0</td><td>2.0</td><td>2.0</td><td>Versicolor</td></tr><tr><th>28</th><td>2.0</td><td>2.0</td><td>2.0</td><td>2.0</td><td>Versicolor</td></tr><tr><th>29</th><td>2.0</td><td>2.0</td><td>2.0</td><td>2.0</td><td>Versicolor</td></tr><tr><th>30</th><td>2.0</td><td>1.0</td><td>2.0</td><td>2.0</td><td>Versicolor</td></tr><tr><th>&vellip;</th><td>&vellip;</td><td>&vellip;</td><td>&vellip;</td><td>&vellip;</td><td>&vellip;</td></tr></tbody></table></div>"
      ],
      "text/latex": [
       "\\begin{tabular}{r|ccccc}\n",
       "\t& sepal.length & sepal.width & petal.length & petal.width & variety\\\\\n",
       "\t\\hline\n",
       "\t& Float64 & Float64 & Float64 & Float64 & String15\\\\\n",
       "\t\\hline\n",
       "\t1 & 2.0 & 2.0 & 1.0 & 2.0 & Setosa \\\\\n",
       "\t2 & 2.0 & 2.0 & 1.0 & 2.0 & Setosa \\\\\n",
       "\t3 & 2.0 & 2.0 & 1.0 & 2.0 & Setosa \\\\\n",
       "\t4 & 2.0 & 2.0 & 1.0 & 2.0 & Setosa \\\\\n",
       "\t5 & 2.0 & 2.0 & 1.0 & 2.0 & Setosa \\\\\n",
       "\t6 & 2.0 & 2.0 & 1.0 & 2.0 & Setosa \\\\\n",
       "\t7 & 2.0 & 2.0 & 1.0 & 2.0 & Setosa \\\\\n",
       "\t8 & 2.0 & 2.0 & 1.0 & 2.0 & Setosa \\\\\n",
       "\t9 & 2.0 & 2.0 & 1.0 & 2.0 & Setosa \\\\\n",
       "\t10 & 2.0 & 2.0 & 1.0 & 2.0 & Setosa \\\\\n",
       "\t11 & 2.0 & 2.0 & 1.0 & 2.0 & Setosa \\\\\n",
       "\t12 & 2.0 & 2.0 & 1.0 & 2.0 & Setosa \\\\\n",
       "\t13 & 2.0 & 2.0 & 1.0 & 2.0 & Setosa \\\\\n",
       "\t14 & 2.0 & 2.0 & 1.0 & 2.0 & Setosa \\\\\n",
       "\t15 & 2.0 & 2.0 & 1.0 & 2.0 & Setosa \\\\\n",
       "\t16 & 2.0 & 2.0 & 1.0 & 2.0 & Setosa \\\\\n",
       "\t17 & 2.0 & 2.0 & 1.0 & 2.0 & Setosa \\\\\n",
       "\t18 & 2.0 & 2.0 & 2.0 & 2.0 & Versicolor \\\\\n",
       "\t19 & 2.0 & 2.0 & 2.0 & 2.0 & Versicolor \\\\\n",
       "\t20 & 2.0 & 1.0 & 2.0 & 2.0 & Versicolor \\\\\n",
       "\t21 & 2.0 & 2.0 & 2.0 & 2.0 & Versicolor \\\\\n",
       "\t22 & 2.0 & 1.0 & 2.0 & 2.0 & Versicolor \\\\\n",
       "\t23 & 2.0 & 1.0 & 2.0 & 2.0 & Versicolor \\\\\n",
       "\t24 & 2.0 & 1.0 & 2.0 & 2.0 & Versicolor \\\\\n",
       "\t25 & 2.0 & 2.0 & 2.0 & 2.0 & Versicolor \\\\\n",
       "\t26 & 2.0 & 2.0 & 2.0 & 2.0 & Versicolor \\\\\n",
       "\t27 & 2.0 & 1.0 & 2.0 & 2.0 & Versicolor \\\\\n",
       "\t28 & 2.0 & 2.0 & 2.0 & 2.0 & Versicolor \\\\\n",
       "\t29 & 2.0 & 2.0 & 2.0 & 2.0 & Versicolor \\\\\n",
       "\t30 & 2.0 & 1.0 & 2.0 & 2.0 & Versicolor \\\\\n",
       "\t$\\dots$ & $\\dots$ & $\\dots$ & $\\dots$ & $\\dots$ & $\\dots$ \\\\\n",
       "\\end{tabular}\n"
      ],
      "text/plain": [
       "\u001b[1m50×5 DataFrame\u001b[0m\n",
       "\u001b[1m Row \u001b[0m│\u001b[1m sepal.length \u001b[0m\u001b[1m sepal.width \u001b[0m\u001b[1m petal.length \u001b[0m\u001b[1m petal.width \u001b[0m\u001b[1m variety   \u001b[0m\n",
       "\u001b[1m     \u001b[0m│\u001b[90m Float64      \u001b[0m\u001b[90m Float64     \u001b[0m\u001b[90m Float64      \u001b[0m\u001b[90m Float64     \u001b[0m\u001b[90m String15  \u001b[0m\n",
       "─────┼─────────────────────────────────────────────────────────────────\n",
       "   1 │          2.0          2.0           1.0          2.0  Setosa\n",
       "   2 │          2.0          2.0           1.0          2.0  Setosa\n",
       "   3 │          2.0          2.0           1.0          2.0  Setosa\n",
       "   4 │          2.0          2.0           1.0          2.0  Setosa\n",
       "   5 │          2.0          2.0           1.0          2.0  Setosa\n",
       "   6 │          2.0          2.0           1.0          2.0  Setosa\n",
       "   7 │          2.0          2.0           1.0          2.0  Setosa\n",
       "   8 │          2.0          2.0           1.0          2.0  Setosa\n",
       "   9 │          2.0          2.0           1.0          2.0  Setosa\n",
       "  10 │          2.0          2.0           1.0          2.0  Setosa\n",
       "  11 │          2.0          2.0           1.0          2.0  Setosa\n",
       "  ⋮  │      ⋮             ⋮            ⋮             ⋮           ⋮\n",
       "  41 │          2.0          2.0           2.0          2.0  Virginica\n",
       "  42 │          2.0          1.0           2.0          2.0  Virginica\n",
       "  43 │          2.0          2.0           2.0          1.0  Virginica\n",
       "  44 │          1.0          2.0           2.0          2.0  Virginica\n",
       "  45 │          2.0          2.0           2.0          2.0  Virginica\n",
       "  46 │          1.0          2.0           2.0          2.0  Virginica\n",
       "  47 │          2.0          2.0           2.0          2.0  Virginica\n",
       "  48 │          2.0          2.0           2.0          2.0  Virginica\n",
       "  49 │          2.0          2.0           2.0          1.0  Virginica\n",
       "  50 │          2.0          2.0           2.0          1.0  Virginica\n",
       "\u001b[36m                                                        29 rows omitted\u001b[0m"
      ]
     },
     "execution_count": 13,
     "metadata": {},
     "output_type": "execute_result"
    }
   ],
   "source": [
    "df = CSV.File(\"iris.csv\")\n",
    "df = DataFrame(df)\n",
    "train,test = splitdf(df,2/3)\n",
    "training_set = regulazation(train)\n",
    "test_set = regulazation(test)"
   ]
  },
  {
   "cell_type": "code",
   "execution_count": 14,
   "id": "dcba30f3",
   "metadata": {
    "scrolled": false
   },
   "outputs": [
    {
     "data": {
      "text/plain": [
       "3-element Vector{Any}:\n",
       " Dict{Any, Any}(\"variety\" => \"Setosa\", \"petal.length\" => 1.0)\n",
       " Dict{Any, Any}(\"sepal.width\" => 1.0, \"variety\" => \"Versicolor\", \"petal.width\" => 2.0, \"sepal.length\" => 2.0, \"petal.length\" => 2.0)\n",
       " Dict{Any, Any}(\"variety\" => \"Virginica\", \"petal.width\" => 1.0, \"petal.length\" => 2.0)"
      ]
     },
     "execution_count": 14,
     "metadata": {},
     "output_type": "execute_result"
    }
   ],
   "source": [
    "result = []\n",
    "attribute = sort_by_entropy(training_set)\n",
    "parent = Dict()\n",
    "decision_tree(training_set,attribute,parent,result)\n",
    "result"
   ]
  },
  {
   "cell_type": "code",
   "execution_count": 15,
   "id": "07406275",
   "metadata": {
    "scrolled": true
   },
   "outputs": [
    {
     "data": {
      "text/plain": [
       "(80.0, Any[\"Setosa\", \"Setosa\", \"Setosa\", \"Setosa\", \"Setosa\", \"Setosa\", \"Setosa\", \"Setosa\", \"Setosa\", \"Setosa\"  …  \"Versicolor\", \"Versicolor\", \"Virginica\", \"Versicolor\", \"Versicolor\", \"Versicolor\", \"Versicolor\", \"Versicolor\", \"Virginica\", \"Virginica\"])"
      ]
     },
     "execution_count": 15,
     "metadata": {},
     "output_type": "execute_result"
    }
   ],
   "source": [
    "acc,re = fit(test_set,result)"
   ]
  },
  {
   "cell_type": "code",
   "execution_count": null,
   "id": "374e2cd2",
   "metadata": {},
   "outputs": [],
   "source": []
  }
 ],
 "metadata": {
  "kernelspec": {
   "display_name": "Julia 1.6.3",
   "language": "julia",
   "name": "julia-1.6"
  },
  "language_info": {
   "file_extension": ".jl",
   "mimetype": "application/julia",
   "name": "julia",
   "version": "1.6.3"
  }
 },
 "nbformat": 4,
 "nbformat_minor": 5
}
