{
 "cells": [
  {
   "cell_type": "markdown",
   "id": "2c56a59a",
   "metadata": {},
   "source": [
    "## Import các thư viện"
   ]
  },
  {
   "cell_type": "code",
   "execution_count": 131,
   "id": "4113a65b",
   "metadata": {},
   "outputs": [],
   "source": [
    "using Pkg\n",
    "using CSV\n",
    "using DataFrames\n",
    "using StatsBase\n",
    "using Random"
   ]
  },
  {
   "cell_type": "markdown",
   "id": "dea08a17",
   "metadata": {},
   "source": [
    "## Hàm chia tập dữ liệu thành training set và test set"
   ]
  },
  {
   "cell_type": "code",
   "execution_count": 115,
   "id": "b0660b98",
   "metadata": {},
   "outputs": [
    {
     "data": {
      "text/plain": [
       "splitdf (generic function with 1 method)"
      ]
     },
     "execution_count": 115,
     "metadata": {},
     "output_type": "execute_result"
    }
   ],
   "source": [
    "function splitdf(df, pct)\n",
    "        @assert 0 <= pct <= 1\n",
    "        ids = collect(axes(df, 1))\n",
    "        shuffle!(ids)\n",
    "        sel = ids .<= nrow(df) .* pct\n",
    "        return view(df, sel, :), view(df, .!sel, :)\n",
    "end"
   ]
  },
  {
   "cell_type": "markdown",
   "id": "e4afebb0",
   "metadata": {},
   "source": [
    "## Hàm regulazation_att\n",
    "***Dùng để rời rạc hoá một thuộc tính***\n",
    "## Input:\n",
    "* Dataframe\n",
    "* Tên thuộc tính\n",
    "* Khoảng cần thiết (dạng tuple (a,b)), tất cả các giá trị i (a<=i<=b) được dán nhãn 1, các giá trị còn lại nhãn 2\n",
    "## Output:\n",
    "* Dataframe sau khi chuẩn hoá"
   ]
  },
  {
   "cell_type": "code",
   "execution_count": 116,
   "id": "0db6c0b0",
   "metadata": {},
   "outputs": [
    {
     "data": {
      "text/plain": [
       "regulazation_att (generic function with 1 method)"
      ]
     },
     "execution_count": 116,
     "metadata": {},
     "output_type": "execute_result"
    }
   ],
   "source": [
    "function regulazation_att(df,att,interval)\n",
    "    row = size(df)[1]\n",
    "    new = copy(df)\n",
    "    for i in 1:row\n",
    "        val = new[:,att][i]\n",
    "        if (val>=interval[1] && val<=interval[2])\n",
    "            new[i,att] = 1\n",
    "        else\n",
    "            new[i,att] = 2\n",
    "        end\n",
    "    end\n",
    "    return new\n",
    "end"
   ]
  },
  {
   "cell_type": "markdown",
   "id": "881d5934",
   "metadata": {},
   "source": [
    "## Hàm regulazation\n",
    "***Dùng để rời rạc hoá tất cả các thuộc tính***\n",
    "## Input:\n",
    "* Dataframe\n",
    "##  Output:\n",
    "* Dataframe sau khi chuẩn hoá"
   ]
  },
  {
   "cell_type": "code",
   "execution_count": 117,
   "id": "ac06d6fd",
   "metadata": {},
   "outputs": [
    {
     "data": {
      "text/plain": [
       "regulazation (generic function with 1 method)"
      ]
     },
     "execution_count": 117,
     "metadata": {},
     "output_type": "execute_result"
    }
   ],
   "source": [
    "# Roi rac hoa cac thuoc tinh\n",
    "function regulazation(df)\n",
    "    new = regulazation_att(df,\"sepal.length\",(7.2,8))\n",
    "    new = regulazation_att(new,\"sepal.width\",(2,2.5))\n",
    "    new = regulazation_att(new,\"petal.length\",(1,2))\n",
    "    new = regulazation_att(new,\"petal.width\",(1.9,3))\n",
    "    return new\n",
    "end"
   ]
  },
  {
   "cell_type": "markdown",
   "id": "55237638",
   "metadata": {},
   "source": [
    "## Hàm Entropy\n",
    "***Tính độ đo entropy của một thuộc tính (attribute)***\n",
    "## Input\n",
    "* df: Dataframe\n",
    "* att: Tên thuôc tính\n",
    "## Output\n",
    "* entropy: độ đo entropy"
   ]
  },
  {
   "cell_type": "code",
   "execution_count": 118,
   "id": "9729904e",
   "metadata": {},
   "outputs": [
    {
     "data": {
      "text/plain": [
       "Entropy (generic function with 1 method)"
      ]
     },
     "execution_count": 118,
     "metadata": {},
     "output_type": "execute_result"
    }
   ],
   "source": [
    "# Tinh Entropy cua mot thuoc tinh\n",
    "function Entropy(df,att)\n",
    "    variety = [\"Setosa\",\"Versicolor\",\"Virginica\"]\n",
    "    size_df = size(df)[1]\n",
    "    entropy = 0\n",
    "    for i in unique(df[:,att])\n",
    "        entropy_class = 0\n",
    "        filter = df[:,att].== i\n",
    "        df_of_class = df[filter,[\"variety\"]]\n",
    "        size_class = size(df_of_class)[1]\n",
    "        for name in variety\n",
    "            filter_variety = df_of_class[:,\"variety\"].== name\n",
    "            value = size(df_of_class[filter_variety,:])[1]/size_class\n",
    "            if(value != 0)\n",
    "                value = -value*(log(value))\n",
    "                entropy_class+=value\n",
    "            end\n",
    "        end\n",
    "        entropy+=(size_class/size_df)*entropy_class\n",
    "    end\n",
    "    return entropy\n",
    "end"
   ]
  },
  {
   "cell_type": "markdown",
   "id": "3f2fc951",
   "metadata": {},
   "source": [
    "## Hàm sort_by_entropy\n",
    "***Dùng để sắp xếp các thuộc tính giảm dần entropy***\n",
    "## Input: \n",
    "* df: Dataframe đã chuẩn hoá\n",
    "## Output:\n",
    "* result: array tên các thuộc tính đã sắp xếp"
   ]
  },
  {
   "cell_type": "code",
   "execution_count": 119,
   "id": "9e755ceb",
   "metadata": {},
   "outputs": [
    {
     "data": {
      "text/plain": [
       "sort_by_entropy (generic function with 1 method)"
      ]
     },
     "execution_count": 119,
     "metadata": {},
     "output_type": "execute_result"
    }
   ],
   "source": [
    "function sort_by_entropy(df)\n",
    "    att = names(df)\n",
    "    att = att[1:(length(att)-1)]\n",
    "    dict = Dict()\n",
    "    for i in att\n",
    "        entropy = Entropy(df,i)\n",
    "        dict[i] = entropy\n",
    "    end\n",
    "    sorted = (sort(collect(dict), by=x->x[2], rev=true))\n",
    "    result =[ i[1] for i in sorted]\n",
    "    return result\n",
    "end"
   ]
  },
  {
   "cell_type": "markdown",
   "id": "6bc3bd14",
   "metadata": {},
   "source": []
  },
  {
   "cell_type": "code",
   "execution_count": 120,
   "id": "0fe7e465",
   "metadata": {},
   "outputs": [
    {
     "data": {
      "text/plain": [
       "count_variety (generic function with 1 method)"
      ]
     },
     "execution_count": 120,
     "metadata": {},
     "output_type": "execute_result"
    }
   ],
   "source": [
    "function count_variety(df)\n",
    "    variety = df[:,\"variety\"]\n",
    "    dict = Dict()\n",
    "    for i in unique(variety)\n",
    "        count = 0\n",
    "        for j in 1:size(variety)[1]\n",
    "            if(variety[j] == i)\n",
    "                count+=1\n",
    "            end\n",
    "        end\n",
    "        dict[i] = count\n",
    "    end\n",
    "    return dict\n",
    "end"
   ]
  },
  {
   "cell_type": "markdown",
   "id": "30a6cbbb",
   "metadata": {},
   "source": [
    "## Hàm checked_classified\n",
    "***Kiểm tra xem với luật vừa tìm được có thể phần lớp hoàn toàn về một lớp không. Hàm này dùng luật để lọc ra các dòng thoả và kiểm tra attribute \"variety\" chỉ có một nhãn duy nhất hay không.***\n",
    "## Input:\n",
    "* data: Dataframe đã chuẩn hoá\n",
    "* dict_rules (dictionary): luật\n",
    "## Output:\n",
    "* Nếu đã thuộc về duy nhất một nhãn trả về tên nhãn đó\n",
    "* Nếu không trả về nothing"
   ]
  },
  {
   "cell_type": "code",
   "execution_count": 121,
   "id": "1133537c",
   "metadata": {},
   "outputs": [
    {
     "data": {
      "text/plain": [
       "check_classified (generic function with 1 method)"
      ]
     },
     "execution_count": 121,
     "metadata": {},
     "output_type": "execute_result"
    }
   ],
   "source": [
    "function check_classified(dict_rules, data)\n",
    "    new = copy(data)\n",
    "    variety = [\"Setosa\",\"Versicolor\",\"Virginica\"]\n",
    "    for (i,j) in dict_rules\n",
    "        filter = new[:,i].==j\n",
    "        new = new[filter,:]\n",
    "    end\n",
    "    num_class = length(unique(new[:,\"variety\"]))\n",
    "    if (num_class == 1)\n",
    "        return unique(new[:,\"variety\"])[1]\n",
    "    end\n",
    "    return nothing\n",
    "end"
   ]
  },
  {
   "cell_type": "markdown",
   "id": "7b3f0046",
   "metadata": {},
   "source": [
    "## Hàm decision_tree\n",
    "***Thuật toán ID3 để tìm ra các luật trong tập dữ liệu***\n",
    "## Input:\n",
    "* training_set: tập training sau khi đã chuẩn hoá\n",
    "* attribute: tập các thuộc tính sau khi đã sắp xếp giảm dần theo entropy\n",
    "* parent: node cha (được khởi tạo rỗng ban đầu)\n",
    "* result: kết quả (các luật)\n",
    "## Output:\n",
    "* result: các luật"
   ]
  },
  {
   "cell_type": "code",
   "execution_count": 122,
   "id": "95554fc4",
   "metadata": {},
   "outputs": [
    {
     "data": {
      "text/plain": [
       "decision_tree (generic function with 1 method)"
      ]
     },
     "execution_count": 122,
     "metadata": {},
     "output_type": "execute_result"
    }
   ],
   "source": [
    "function decision_tree(training_set,attribute,parent,result)\n",
    "    if(attribute==[])\n",
    "        return \n",
    "    end\n",
    "    data = copy(training_set)\n",
    "    att = pop!(attribute)\n",
    "    for i in unique(data[:,att])\n",
    "        child_node = copy(parent)\n",
    "        child_node[att] =i\n",
    "        class = check_classified(child_node,training_set)\n",
    "        if(class != nothing)\n",
    "            rule = copy(child_node)\n",
    "            rule[\"variety\"] = class\n",
    "            push!(result,rule)\n",
    "        else\n",
    "            decision_tree(training_set,attribute,child_node,result)\n",
    "        end\n",
    "    end\n",
    "end"
   ]
  },
  {
   "cell_type": "markdown",
   "id": "999f0d07",
   "metadata": {},
   "source": [
    "## Hàm classify\n",
    "***Dùng đế dán nhẫn \"variety\" cho một dòng dữ liệu***\n",
    "## Input:\n",
    "* X: một dòng dữ liệu trong tập test\n",
    "* rules: tập luật có được từ hàm decision_tree\n",
    "## Output:\n",
    "* Nhãn thuộc \"Setosa\", \"Versicolor\", \"Virginica\""
   ]
  },
  {
   "cell_type": "code",
   "execution_count": 123,
   "id": "dcf9ef44",
   "metadata": {},
   "outputs": [
    {
     "data": {
      "text/plain": [
       "classify (generic function with 1 method)"
      ]
     },
     "execution_count": 123,
     "metadata": {},
     "output_type": "execute_result"
    }
   ],
   "source": [
    "function classify(X,rules)\n",
    "    name = names(X)\n",
    "    name = name[1:length(name)-1]\n",
    "    for rule in rules\n",
    "        flag = 0\n",
    "        for (i,j) in rule\n",
    "            if(i!=\"variety\")\n",
    "                if X[i]!=j\n",
    "                    flag = 1\n",
    "                    break\n",
    "                end\n",
    "            end\n",
    "        end\n",
    "        if(flag == 0)\n",
    "            return rule[\"variety\"]\n",
    "        end\n",
    "    end\n",
    "    return \"Versicolor\"\n",
    "end"
   ]
  },
  {
   "cell_type": "markdown",
   "id": "52d9d752",
   "metadata": {},
   "source": [
    "## Hàm fit\n",
    "***Dùng để fit bộ test với các luật vừa tìm được***\n",
    "## Input:\n",
    "* test_set: tập test (1/3 dataset) đã rời rạc hoá\n",
    "* rules: các luật vừa tìm được \n",
    "## Output:\n",
    "* Độ đo accuracy\n",
    "* variety: tập nhãn từ thuật toán (so tập này với thực tế xem đúng bao nhiêu phần trăm)"
   ]
  },
  {
   "cell_type": "code",
   "execution_count": 124,
   "id": "54dcdc40",
   "metadata": {},
   "outputs": [
    {
     "data": {
      "text/plain": [
       "fit (generic function with 1 method)"
      ]
     },
     "execution_count": 124,
     "metadata": {},
     "output_type": "execute_result"
    }
   ],
   "source": [
    "function fit(test_set, rules)\n",
    "    variety = []\n",
    "    for i in 1:size(test_set)[1]\n",
    "        X = test_set[i,:]\n",
    "        brand = classify(X,rules)\n",
    "        push!(variety,brand)\n",
    "    end\n",
    "    test_variety = test_set[:,\"variety\"]\n",
    "    count = 0\n",
    "    for i in 1:length(test_variety)\n",
    "        if(variety[i]==test_variety[i])\n",
    "            count+=1\n",
    "        end\n",
    "    end\n",
    "    return (count*100)/length(variety), variety\n",
    "end"
   ]
  },
  {
   "cell_type": "code",
   "execution_count": 125,
   "id": "5f4a0f71",
   "metadata": {},
   "outputs": [
    {
     "data": {
      "text/html": [
       "<div class=\"data-frame\"><p>50 rows × 5 columns</p><table class=\"data-frame\"><thead><tr><th></th><th>sepal.length</th><th>sepal.width</th><th>petal.length</th><th>petal.width</th><th>variety</th></tr><tr><th></th><th title=\"Float64\">Float64</th><th title=\"Float64\">Float64</th><th title=\"Float64\">Float64</th><th title=\"Float64\">Float64</th><th title=\"String15\">String15</th></tr></thead><tbody><tr><th>1</th><td>2.0</td><td>2.0</td><td>1.0</td><td>2.0</td><td>Setosa</td></tr><tr><th>2</th><td>2.0</td><td>2.0</td><td>1.0</td><td>2.0</td><td>Setosa</td></tr><tr><th>3</th><td>2.0</td><td>2.0</td><td>1.0</td><td>2.0</td><td>Setosa</td></tr><tr><th>4</th><td>2.0</td><td>2.0</td><td>1.0</td><td>2.0</td><td>Setosa</td></tr><tr><th>5</th><td>2.0</td><td>2.0</td><td>1.0</td><td>2.0</td><td>Setosa</td></tr><tr><th>6</th><td>2.0</td><td>2.0</td><td>1.0</td><td>2.0</td><td>Setosa</td></tr><tr><th>7</th><td>2.0</td><td>2.0</td><td>1.0</td><td>2.0</td><td>Setosa</td></tr><tr><th>8</th><td>2.0</td><td>2.0</td><td>1.0</td><td>2.0</td><td>Setosa</td></tr><tr><th>9</th><td>2.0</td><td>2.0</td><td>1.0</td><td>2.0</td><td>Setosa</td></tr><tr><th>10</th><td>2.0</td><td>2.0</td><td>1.0</td><td>2.0</td><td>Setosa</td></tr><tr><th>11</th><td>2.0</td><td>2.0</td><td>1.0</td><td>2.0</td><td>Setosa</td></tr><tr><th>12</th><td>2.0</td><td>1.0</td><td>1.0</td><td>2.0</td><td>Setosa</td></tr><tr><th>13</th><td>2.0</td><td>2.0</td><td>1.0</td><td>2.0</td><td>Setosa</td></tr><tr><th>14</th><td>2.0</td><td>2.0</td><td>1.0</td><td>2.0</td><td>Setosa</td></tr><tr><th>15</th><td>2.0</td><td>1.0</td><td>2.0</td><td>2.0</td><td>Versicolor</td></tr><tr><th>16</th><td>2.0</td><td>2.0</td><td>2.0</td><td>2.0</td><td>Versicolor</td></tr><tr><th>17</th><td>2.0</td><td>2.0</td><td>2.0</td><td>2.0</td><td>Versicolor</td></tr><tr><th>18</th><td>2.0</td><td>1.0</td><td>2.0</td><td>2.0</td><td>Versicolor</td></tr><tr><th>19</th><td>2.0</td><td>1.0</td><td>2.0</td><td>2.0</td><td>Versicolor</td></tr><tr><th>20</th><td>2.0</td><td>2.0</td><td>2.0</td><td>2.0</td><td>Versicolor</td></tr><tr><th>21</th><td>2.0</td><td>2.0</td><td>2.0</td><td>2.0</td><td>Versicolor</td></tr><tr><th>22</th><td>2.0</td><td>2.0</td><td>2.0</td><td>2.0</td><td>Versicolor</td></tr><tr><th>23</th><td>2.0</td><td>2.0</td><td>2.0</td><td>2.0</td><td>Versicolor</td></tr><tr><th>24</th><td>2.0</td><td>2.0</td><td>2.0</td><td>2.0</td><td>Versicolor</td></tr><tr><th>25</th><td>2.0</td><td>2.0</td><td>2.0</td><td>2.0</td><td>Versicolor</td></tr><tr><th>26</th><td>2.0</td><td>2.0</td><td>2.0</td><td>2.0</td><td>Versicolor</td></tr><tr><th>27</th><td>2.0</td><td>2.0</td><td>2.0</td><td>2.0</td><td>Versicolor</td></tr><tr><th>28</th><td>2.0</td><td>2.0</td><td>2.0</td><td>2.0</td><td>Versicolor</td></tr><tr><th>29</th><td>2.0</td><td>2.0</td><td>2.0</td><td>2.0</td><td>Versicolor</td></tr><tr><th>30</th><td>2.0</td><td>1.0</td><td>2.0</td><td>2.0</td><td>Versicolor</td></tr><tr><th>&vellip;</th><td>&vellip;</td><td>&vellip;</td><td>&vellip;</td><td>&vellip;</td><td>&vellip;</td></tr></tbody></table></div>"
      ],
      "text/latex": [
       "\\begin{tabular}{r|ccccc}\n",
       "\t& sepal.length & sepal.width & petal.length & petal.width & variety\\\\\n",
       "\t\\hline\n",
       "\t& Float64 & Float64 & Float64 & Float64 & String15\\\\\n",
       "\t\\hline\n",
       "\t1 & 2.0 & 2.0 & 1.0 & 2.0 & Setosa \\\\\n",
       "\t2 & 2.0 & 2.0 & 1.0 & 2.0 & Setosa \\\\\n",
       "\t3 & 2.0 & 2.0 & 1.0 & 2.0 & Setosa \\\\\n",
       "\t4 & 2.0 & 2.0 & 1.0 & 2.0 & Setosa \\\\\n",
       "\t5 & 2.0 & 2.0 & 1.0 & 2.0 & Setosa \\\\\n",
       "\t6 & 2.0 & 2.0 & 1.0 & 2.0 & Setosa \\\\\n",
       "\t7 & 2.0 & 2.0 & 1.0 & 2.0 & Setosa \\\\\n",
       "\t8 & 2.0 & 2.0 & 1.0 & 2.0 & Setosa \\\\\n",
       "\t9 & 2.0 & 2.0 & 1.0 & 2.0 & Setosa \\\\\n",
       "\t10 & 2.0 & 2.0 & 1.0 & 2.0 & Setosa \\\\\n",
       "\t11 & 2.0 & 2.0 & 1.0 & 2.0 & Setosa \\\\\n",
       "\t12 & 2.0 & 1.0 & 1.0 & 2.0 & Setosa \\\\\n",
       "\t13 & 2.0 & 2.0 & 1.0 & 2.0 & Setosa \\\\\n",
       "\t14 & 2.0 & 2.0 & 1.0 & 2.0 & Setosa \\\\\n",
       "\t15 & 2.0 & 1.0 & 2.0 & 2.0 & Versicolor \\\\\n",
       "\t16 & 2.0 & 2.0 & 2.0 & 2.0 & Versicolor \\\\\n",
       "\t17 & 2.0 & 2.0 & 2.0 & 2.0 & Versicolor \\\\\n",
       "\t18 & 2.0 & 1.0 & 2.0 & 2.0 & Versicolor \\\\\n",
       "\t19 & 2.0 & 1.0 & 2.0 & 2.0 & Versicolor \\\\\n",
       "\t20 & 2.0 & 2.0 & 2.0 & 2.0 & Versicolor \\\\\n",
       "\t21 & 2.0 & 2.0 & 2.0 & 2.0 & Versicolor \\\\\n",
       "\t22 & 2.0 & 2.0 & 2.0 & 2.0 & Versicolor \\\\\n",
       "\t23 & 2.0 & 2.0 & 2.0 & 2.0 & Versicolor \\\\\n",
       "\t24 & 2.0 & 2.0 & 2.0 & 2.0 & Versicolor \\\\\n",
       "\t25 & 2.0 & 2.0 & 2.0 & 2.0 & Versicolor \\\\\n",
       "\t26 & 2.0 & 2.0 & 2.0 & 2.0 & Versicolor \\\\\n",
       "\t27 & 2.0 & 2.0 & 2.0 & 2.0 & Versicolor \\\\\n",
       "\t28 & 2.0 & 2.0 & 2.0 & 2.0 & Versicolor \\\\\n",
       "\t29 & 2.0 & 2.0 & 2.0 & 2.0 & Versicolor \\\\\n",
       "\t30 & 2.0 & 1.0 & 2.0 & 2.0 & Versicolor \\\\\n",
       "\t$\\dots$ & $\\dots$ & $\\dots$ & $\\dots$ & $\\dots$ & $\\dots$ \\\\\n",
       "\\end{tabular}\n"
      ],
      "text/plain": [
       "\u001b[1m50×5 DataFrame\u001b[0m\n",
       "\u001b[1m Row \u001b[0m│\u001b[1m sepal.length \u001b[0m\u001b[1m sepal.width \u001b[0m\u001b[1m petal.length \u001b[0m\u001b[1m petal.width \u001b[0m\u001b[1m variety   \u001b[0m\n",
       "\u001b[1m     \u001b[0m│\u001b[90m Float64      \u001b[0m\u001b[90m Float64     \u001b[0m\u001b[90m Float64      \u001b[0m\u001b[90m Float64     \u001b[0m\u001b[90m String15  \u001b[0m\n",
       "─────┼─────────────────────────────────────────────────────────────────\n",
       "   1 │          2.0          2.0           1.0          2.0  Setosa\n",
       "   2 │          2.0          2.0           1.0          2.0  Setosa\n",
       "   3 │          2.0          2.0           1.0          2.0  Setosa\n",
       "   4 │          2.0          2.0           1.0          2.0  Setosa\n",
       "   5 │          2.0          2.0           1.0          2.0  Setosa\n",
       "   6 │          2.0          2.0           1.0          2.0  Setosa\n",
       "   7 │          2.0          2.0           1.0          2.0  Setosa\n",
       "   8 │          2.0          2.0           1.0          2.0  Setosa\n",
       "   9 │          2.0          2.0           1.0          2.0  Setosa\n",
       "  10 │          2.0          2.0           1.0          2.0  Setosa\n",
       "  11 │          2.0          2.0           1.0          2.0  Setosa\n",
       "  ⋮  │      ⋮             ⋮            ⋮             ⋮           ⋮\n",
       "  41 │          2.0          2.0           2.0          1.0  Virginica\n",
       "  42 │          2.0          2.0           2.0          2.0  Virginica\n",
       "  43 │          1.0          2.0           2.0          1.0  Virginica\n",
       "  44 │          2.0          2.0           2.0          1.0  Virginica\n",
       "  45 │          1.0          2.0           2.0          2.0  Virginica\n",
       "  46 │          2.0          2.0           2.0          2.0  Virginica\n",
       "  47 │          1.0          2.0           2.0          1.0  Virginica\n",
       "  48 │          2.0          2.0           2.0          1.0  Virginica\n",
       "  49 │          2.0          2.0           2.0          2.0  Virginica\n",
       "  50 │          2.0          2.0           2.0          1.0  Virginica\n",
       "\u001b[36m                                                        29 rows omitted\u001b[0m"
      ]
     },
     "execution_count": 125,
     "metadata": {},
     "output_type": "execute_result"
    }
   ],
   "source": [
    "df = CSV.File(\"iris.csv\")\n",
    "df = DataFrame(df)\n",
    "train,test = splitdf(df,2/3)\n",
    "training_set = regulazation(train)\n",
    "test_set = regulazation(test)"
   ]
  },
  {
   "cell_type": "code",
   "execution_count": 126,
   "id": "dcba30f3",
   "metadata": {
    "scrolled": false
   },
   "outputs": [
    {
     "data": {
      "text/plain": [
       "3-element Vector{Any}:\n",
       " Dict{Any, Any}(\"petal.length\" => 1.0, \"variety\" => \"Setosa\")\n",
       " Dict{Any, Any}(\"petal.length\" => 2.0, \"petal.width\" => 2.0, \"sepal.length\" => 1.0, \"variety\" => \"Virginica\")\n",
       " Dict{Any, Any}(\"petal.length\" => 2.0, \"petal.width\" => 1.0, \"variety\" => \"Virginica\")"
      ]
     },
     "execution_count": 126,
     "metadata": {},
     "output_type": "execute_result"
    }
   ],
   "source": [
    "result = []\n",
    "attribute = sort_by_entropy(training_set)\n",
    "parent = Dict()\n",
    "decision_tree(training_set,attribute,parent,result)\n",
    "result"
   ]
  },
  {
   "cell_type": "code",
   "execution_count": 127,
   "id": "07406275",
   "metadata": {
    "scrolled": true
   },
   "outputs": [
    {
     "data": {
      "text/plain": [
       "(92.0, Any[\"Setosa\", \"Setosa\", \"Setosa\", \"Setosa\", \"Setosa\", \"Setosa\", \"Setosa\", \"Setosa\", \"Setosa\", \"Setosa\"  …  \"Virginica\", \"Versicolor\", \"Virginica\", \"Virginica\", \"Virginica\", \"Versicolor\", \"Virginica\", \"Virginica\", \"Versicolor\", \"Virginica\"])"
      ]
     },
     "execution_count": 127,
     "metadata": {},
     "output_type": "execute_result"
    }
   ],
   "source": [
    "accuracy, variety = fit(test_set,result)"
   ]
  },
  {
   "cell_type": "code",
   "execution_count": 128,
   "id": "d239ab84",
   "metadata": {},
   "outputs": [
    {
     "data": {
      "text/html": [
       "<div class=\"data-frame\"><p>30 rows × 5 columns</p><table class=\"data-frame\"><thead><tr><th></th><th>sepal.length</th><th>sepal.width</th><th>petal.length</th><th>petal.width</th><th>variety</th></tr><tr><th></th><th title=\"Float64\">Float64</th><th title=\"Float64\">Float64</th><th title=\"Float64\">Float64</th><th title=\"Float64\">Float64</th><th title=\"String15\">String15</th></tr></thead><tbody><tr><th>1</th><td>5.0</td><td>3.0</td><td>2.0</td><td>0.1</td><td>Versicolor</td></tr><tr><th>2</th><td>5.4</td><td>3.3</td><td>1.7</td><td>0.3</td><td>Versicolor</td></tr><tr><th>3</th><td>6.6</td><td>3.6</td><td>1.6</td><td>1.7</td><td>Versicolor</td></tr><tr><th>4</th><td>3.5</td><td>3.3</td><td>1.1</td><td>1.7</td><td>Versicolor</td></tr><tr><th>5</th><td>4.0</td><td>3.0</td><td>1.9</td><td>1.2</td><td>Versicolor</td></tr><tr><th>6</th><td>5.9</td><td>3.6</td><td>1.9</td><td>1.2</td><td>Versicolor</td></tr><tr><th>7</th><td>4.2</td><td>3.3</td><td>1.6</td><td>1.1</td><td>Versicolor</td></tr><tr><th>8</th><td>6.7</td><td>3.4</td><td>1.6</td><td>1.8</td><td>Versicolor</td></tr><tr><th>9</th><td>6.8</td><td>3.7</td><td>1.1</td><td>0.7</td><td>Versicolor</td></tr><tr><th>10</th><td>0.1</td><td>3.3</td><td>1.5</td><td>0.6</td><td>Versicolor</td></tr><tr><th>11</th><td>0.6</td><td>3.6</td><td>1.5</td><td>0.7</td><td>Versicolor</td></tr><tr><th>12</th><td>1.6</td><td>3.6</td><td>1.1</td><td>0.8</td><td>Versicolor</td></tr><tr><th>13</th><td>5.6</td><td>3.5</td><td>1.0</td><td>0.3</td><td>Versicolor</td></tr><tr><th>14</th><td>7.1</td><td>3.1</td><td>1.1</td><td>1.2</td><td>Versicolor</td></tr><tr><th>15</th><td>5.6</td><td>3.5</td><td>1.6</td><td>0.3</td><td>Versicolor</td></tr><tr><th>16</th><td>4.1</td><td>3.3</td><td>1.3</td><td>0.3</td><td>Versicolor</td></tr><tr><th>17</th><td>6.0</td><td>3.1</td><td>1.5</td><td>1.7</td><td>Versicolor</td></tr><tr><th>18</th><td>0.8</td><td>3.3</td><td>1.9</td><td>1.5</td><td>Versicolor</td></tr><tr><th>19</th><td>0.3</td><td>3.6</td><td>1.4</td><td>1.8</td><td>Versicolor</td></tr><tr><th>20</th><td>5.0</td><td>3.8</td><td>1.7</td><td>0.6</td><td>Versicolor</td></tr><tr><th>21</th><td>1.1</td><td>3.7</td><td>1.9</td><td>1.5</td><td>Versicolor</td></tr><tr><th>22</th><td>4.1</td><td>3.7</td><td>1.1</td><td>0.6</td><td>Versicolor</td></tr><tr><th>23</th><td>2.0</td><td>4.0</td><td>1.4</td><td>1.9</td><td>Versicolor</td></tr><tr><th>24</th><td>3.2</td><td>3.7</td><td>1.9</td><td>1.6</td><td>Versicolor</td></tr><tr><th>25</th><td>0.9</td><td>3.5</td><td>1.6</td><td>0.6</td><td>Versicolor</td></tr><tr><th>26</th><td>4.3</td><td>3.3</td><td>1.6</td><td>1.1</td><td>Versicolor</td></tr><tr><th>27</th><td>1.6</td><td>3.1</td><td>1.3</td><td>1.4</td><td>Versicolor</td></tr><tr><th>28</th><td>3.5</td><td>3.8</td><td>1.2</td><td>0.2</td><td>Versicolor</td></tr><tr><th>29</th><td>3.7</td><td>3.3</td><td>1.6</td><td>0.5</td><td>Versicolor</td></tr><tr><th>30</th><td>3.0</td><td>3.9</td><td>1.1</td><td>1.9</td><td>Versicolor</td></tr></tbody></table></div>"
      ],
      "text/latex": [
       "\\begin{tabular}{r|ccccc}\n",
       "\t& sepal.length & sepal.width & petal.length & petal.width & variety\\\\\n",
       "\t\\hline\n",
       "\t& Float64 & Float64 & Float64 & Float64 & String15\\\\\n",
       "\t\\hline\n",
       "\t1 & 5.0 & 3.0 & 2.0 & 0.1 & Versicolor \\\\\n",
       "\t2 & 5.4 & 3.3 & 1.7 & 0.3 & Versicolor \\\\\n",
       "\t3 & 6.6 & 3.6 & 1.6 & 1.7 & Versicolor \\\\\n",
       "\t4 & 3.5 & 3.3 & 1.1 & 1.7 & Versicolor \\\\\n",
       "\t5 & 4.0 & 3.0 & 1.9 & 1.2 & Versicolor \\\\\n",
       "\t6 & 5.9 & 3.6 & 1.9 & 1.2 & Versicolor \\\\\n",
       "\t7 & 4.2 & 3.3 & 1.6 & 1.1 & Versicolor \\\\\n",
       "\t8 & 6.7 & 3.4 & 1.6 & 1.8 & Versicolor \\\\\n",
       "\t9 & 6.8 & 3.7 & 1.1 & 0.7 & Versicolor \\\\\n",
       "\t10 & 0.1 & 3.3 & 1.5 & 0.6 & Versicolor \\\\\n",
       "\t11 & 0.6 & 3.6 & 1.5 & 0.7 & Versicolor \\\\\n",
       "\t12 & 1.6 & 3.6 & 1.1 & 0.8 & Versicolor \\\\\n",
       "\t13 & 5.6 & 3.5 & 1.0 & 0.3 & Versicolor \\\\\n",
       "\t14 & 7.1 & 3.1 & 1.1 & 1.2 & Versicolor \\\\\n",
       "\t15 & 5.6 & 3.5 & 1.6 & 0.3 & Versicolor \\\\\n",
       "\t16 & 4.1 & 3.3 & 1.3 & 0.3 & Versicolor \\\\\n",
       "\t17 & 6.0 & 3.1 & 1.5 & 1.7 & Versicolor \\\\\n",
       "\t18 & 0.8 & 3.3 & 1.9 & 1.5 & Versicolor \\\\\n",
       "\t19 & 0.3 & 3.6 & 1.4 & 1.8 & Versicolor \\\\\n",
       "\t20 & 5.0 & 3.8 & 1.7 & 0.6 & Versicolor \\\\\n",
       "\t21 & 1.1 & 3.7 & 1.9 & 1.5 & Versicolor \\\\\n",
       "\t22 & 4.1 & 3.7 & 1.1 & 0.6 & Versicolor \\\\\n",
       "\t23 & 2.0 & 4.0 & 1.4 & 1.9 & Versicolor \\\\\n",
       "\t24 & 3.2 & 3.7 & 1.9 & 1.6 & Versicolor \\\\\n",
       "\t25 & 0.9 & 3.5 & 1.6 & 0.6 & Versicolor \\\\\n",
       "\t26 & 4.3 & 3.3 & 1.6 & 1.1 & Versicolor \\\\\n",
       "\t27 & 1.6 & 3.1 & 1.3 & 1.4 & Versicolor \\\\\n",
       "\t28 & 3.5 & 3.8 & 1.2 & 0.2 & Versicolor \\\\\n",
       "\t29 & 3.7 & 3.3 & 1.6 & 0.5 & Versicolor \\\\\n",
       "\t30 & 3.0 & 3.9 & 1.1 & 1.9 & Versicolor \\\\\n",
       "\\end{tabular}\n"
      ],
      "text/plain": [
       "\u001b[1m30×5 DataFrame\u001b[0m\n",
       "\u001b[1m Row \u001b[0m│\u001b[1m sepal.length \u001b[0m\u001b[1m sepal.width \u001b[0m\u001b[1m petal.length \u001b[0m\u001b[1m petal.width \u001b[0m\u001b[1m variety    \u001b[0m\n",
       "\u001b[1m     \u001b[0m│\u001b[90m Float64      \u001b[0m\u001b[90m Float64     \u001b[0m\u001b[90m Float64      \u001b[0m\u001b[90m Float64     \u001b[0m\u001b[90m String15   \u001b[0m\n",
       "─────┼──────────────────────────────────────────────────────────────────\n",
       "   1 │          5.0          3.0           2.0          0.1  Versicolor\n",
       "   2 │          5.4          3.3           1.7          0.3  Versicolor\n",
       "   3 │          6.6          3.6           1.6          1.7  Versicolor\n",
       "   4 │          3.5          3.3           1.1          1.7  Versicolor\n",
       "   5 │          4.0          3.0           1.9          1.2  Versicolor\n",
       "   6 │          5.9          3.6           1.9          1.2  Versicolor\n",
       "   7 │          4.2          3.3           1.6          1.1  Versicolor\n",
       "   8 │          6.7          3.4           1.6          1.8  Versicolor\n",
       "   9 │          6.8          3.7           1.1          0.7  Versicolor\n",
       "  10 │          0.1          3.3           1.5          0.6  Versicolor\n",
       "  11 │          0.6          3.6           1.5          0.7  Versicolor\n",
       "  ⋮  │      ⋮             ⋮            ⋮             ⋮           ⋮\n",
       "  21 │          1.1          3.7           1.9          1.5  Versicolor\n",
       "  22 │          4.1          3.7           1.1          0.6  Versicolor\n",
       "  23 │          2.0          4.0           1.4          1.9  Versicolor\n",
       "  24 │          3.2          3.7           1.9          1.6  Versicolor\n",
       "  25 │          0.9          3.5           1.6          0.6  Versicolor\n",
       "  26 │          4.3          3.3           1.6          1.1  Versicolor\n",
       "  27 │          1.6          3.1           1.3          1.4  Versicolor\n",
       "  28 │          3.5          3.8           1.2          0.2  Versicolor\n",
       "  29 │          3.7          3.3           1.6          0.5  Versicolor\n",
       "  30 │          3.0          3.9           1.1          1.9  Versicolor\n",
       "\u001b[36m                                                          9 rows omitted\u001b[0m"
      ]
     },
     "execution_count": 128,
     "metadata": {},
     "output_type": "execute_result"
    }
   ],
   "source": [
    "predict = CSV.File(\"predict.csv\")\n",
    "predict = DataFrame(predict)"
   ]
  },
  {
   "cell_type": "code",
   "execution_count": 129,
   "id": "374e2cd2",
   "metadata": {},
   "outputs": [
    {
     "data": {
      "text/plain": [
       "Predict (generic function with 1 method)"
      ]
     },
     "execution_count": 129,
     "metadata": {},
     "output_type": "execute_result"
    }
   ],
   "source": [
    "function Predict(data, rules)\n",
    "    new = copy(data)\n",
    "    new = regulazation(new)\n",
    "    for i in 1:size(data)[1]\n",
    "        class = classify(new[i,:],rules)\n",
    "        data[i,\"variety\"] = class\n",
    "    end\n",
    "    return data\n",
    "end"
   ]
  },
  {
   "cell_type": "code",
   "execution_count": 130,
   "id": "6593cfce",
   "metadata": {
    "scrolled": true
   },
   "outputs": [
    {
     "data": {
      "text/html": [
       "<div class=\"data-frame\"><p>30 rows × 5 columns</p><table class=\"data-frame\"><thead><tr><th></th><th>sepal.length</th><th>sepal.width</th><th>petal.length</th><th>petal.width</th><th>variety</th></tr><tr><th></th><th title=\"Float64\">Float64</th><th title=\"Float64\">Float64</th><th title=\"Float64\">Float64</th><th title=\"Float64\">Float64</th><th title=\"String15\">String15</th></tr></thead><tbody><tr><th>1</th><td>5.0</td><td>3.0</td><td>2.0</td><td>0.1</td><td>Setosa</td></tr><tr><th>2</th><td>5.4</td><td>3.3</td><td>1.7</td><td>0.3</td><td>Setosa</td></tr><tr><th>3</th><td>6.6</td><td>3.6</td><td>1.6</td><td>1.7</td><td>Setosa</td></tr><tr><th>4</th><td>3.5</td><td>3.3</td><td>1.1</td><td>1.7</td><td>Setosa</td></tr><tr><th>5</th><td>4.0</td><td>3.0</td><td>1.9</td><td>1.2</td><td>Setosa</td></tr><tr><th>6</th><td>5.9</td><td>3.6</td><td>1.9</td><td>1.2</td><td>Setosa</td></tr><tr><th>7</th><td>4.2</td><td>3.3</td><td>1.6</td><td>1.1</td><td>Setosa</td></tr><tr><th>8</th><td>6.7</td><td>3.4</td><td>1.6</td><td>1.8</td><td>Setosa</td></tr><tr><th>9</th><td>6.8</td><td>3.7</td><td>1.1</td><td>0.7</td><td>Setosa</td></tr><tr><th>10</th><td>0.1</td><td>3.3</td><td>1.5</td><td>0.6</td><td>Setosa</td></tr><tr><th>11</th><td>0.6</td><td>3.6</td><td>1.5</td><td>0.7</td><td>Setosa</td></tr><tr><th>12</th><td>1.6</td><td>3.6</td><td>1.1</td><td>0.8</td><td>Setosa</td></tr><tr><th>13</th><td>5.6</td><td>3.5</td><td>1.0</td><td>0.3</td><td>Setosa</td></tr><tr><th>14</th><td>7.1</td><td>3.1</td><td>1.1</td><td>1.2</td><td>Setosa</td></tr><tr><th>15</th><td>5.6</td><td>3.5</td><td>1.6</td><td>0.3</td><td>Setosa</td></tr><tr><th>16</th><td>4.1</td><td>3.3</td><td>1.3</td><td>0.3</td><td>Setosa</td></tr><tr><th>17</th><td>6.0</td><td>3.1</td><td>1.5</td><td>1.7</td><td>Setosa</td></tr><tr><th>18</th><td>0.8</td><td>3.3</td><td>1.9</td><td>1.5</td><td>Setosa</td></tr><tr><th>19</th><td>0.3</td><td>3.6</td><td>1.4</td><td>1.8</td><td>Setosa</td></tr><tr><th>20</th><td>5.0</td><td>3.8</td><td>1.7</td><td>0.6</td><td>Setosa</td></tr><tr><th>21</th><td>1.1</td><td>3.7</td><td>1.9</td><td>1.5</td><td>Setosa</td></tr><tr><th>22</th><td>4.1</td><td>3.7</td><td>1.1</td><td>0.6</td><td>Setosa</td></tr><tr><th>23</th><td>2.0</td><td>4.0</td><td>1.4</td><td>1.9</td><td>Setosa</td></tr><tr><th>24</th><td>3.2</td><td>3.7</td><td>1.9</td><td>1.6</td><td>Setosa</td></tr><tr><th>25</th><td>0.9</td><td>3.5</td><td>1.6</td><td>0.6</td><td>Setosa</td></tr><tr><th>26</th><td>4.3</td><td>3.3</td><td>1.6</td><td>1.1</td><td>Setosa</td></tr><tr><th>27</th><td>1.6</td><td>3.1</td><td>1.3</td><td>1.4</td><td>Setosa</td></tr><tr><th>28</th><td>3.5</td><td>3.8</td><td>1.2</td><td>0.2</td><td>Setosa</td></tr><tr><th>29</th><td>3.7</td><td>3.3</td><td>1.6</td><td>0.5</td><td>Setosa</td></tr><tr><th>30</th><td>3.0</td><td>3.9</td><td>1.1</td><td>1.9</td><td>Setosa</td></tr></tbody></table></div>"
      ],
      "text/latex": [
       "\\begin{tabular}{r|ccccc}\n",
       "\t& sepal.length & sepal.width & petal.length & petal.width & variety\\\\\n",
       "\t\\hline\n",
       "\t& Float64 & Float64 & Float64 & Float64 & String15\\\\\n",
       "\t\\hline\n",
       "\t1 & 5.0 & 3.0 & 2.0 & 0.1 & Setosa \\\\\n",
       "\t2 & 5.4 & 3.3 & 1.7 & 0.3 & Setosa \\\\\n",
       "\t3 & 6.6 & 3.6 & 1.6 & 1.7 & Setosa \\\\\n",
       "\t4 & 3.5 & 3.3 & 1.1 & 1.7 & Setosa \\\\\n",
       "\t5 & 4.0 & 3.0 & 1.9 & 1.2 & Setosa \\\\\n",
       "\t6 & 5.9 & 3.6 & 1.9 & 1.2 & Setosa \\\\\n",
       "\t7 & 4.2 & 3.3 & 1.6 & 1.1 & Setosa \\\\\n",
       "\t8 & 6.7 & 3.4 & 1.6 & 1.8 & Setosa \\\\\n",
       "\t9 & 6.8 & 3.7 & 1.1 & 0.7 & Setosa \\\\\n",
       "\t10 & 0.1 & 3.3 & 1.5 & 0.6 & Setosa \\\\\n",
       "\t11 & 0.6 & 3.6 & 1.5 & 0.7 & Setosa \\\\\n",
       "\t12 & 1.6 & 3.6 & 1.1 & 0.8 & Setosa \\\\\n",
       "\t13 & 5.6 & 3.5 & 1.0 & 0.3 & Setosa \\\\\n",
       "\t14 & 7.1 & 3.1 & 1.1 & 1.2 & Setosa \\\\\n",
       "\t15 & 5.6 & 3.5 & 1.6 & 0.3 & Setosa \\\\\n",
       "\t16 & 4.1 & 3.3 & 1.3 & 0.3 & Setosa \\\\\n",
       "\t17 & 6.0 & 3.1 & 1.5 & 1.7 & Setosa \\\\\n",
       "\t18 & 0.8 & 3.3 & 1.9 & 1.5 & Setosa \\\\\n",
       "\t19 & 0.3 & 3.6 & 1.4 & 1.8 & Setosa \\\\\n",
       "\t20 & 5.0 & 3.8 & 1.7 & 0.6 & Setosa \\\\\n",
       "\t21 & 1.1 & 3.7 & 1.9 & 1.5 & Setosa \\\\\n",
       "\t22 & 4.1 & 3.7 & 1.1 & 0.6 & Setosa \\\\\n",
       "\t23 & 2.0 & 4.0 & 1.4 & 1.9 & Setosa \\\\\n",
       "\t24 & 3.2 & 3.7 & 1.9 & 1.6 & Setosa \\\\\n",
       "\t25 & 0.9 & 3.5 & 1.6 & 0.6 & Setosa \\\\\n",
       "\t26 & 4.3 & 3.3 & 1.6 & 1.1 & Setosa \\\\\n",
       "\t27 & 1.6 & 3.1 & 1.3 & 1.4 & Setosa \\\\\n",
       "\t28 & 3.5 & 3.8 & 1.2 & 0.2 & Setosa \\\\\n",
       "\t29 & 3.7 & 3.3 & 1.6 & 0.5 & Setosa \\\\\n",
       "\t30 & 3.0 & 3.9 & 1.1 & 1.9 & Setosa \\\\\n",
       "\\end{tabular}\n"
      ],
      "text/plain": [
       "\u001b[1m30×5 DataFrame\u001b[0m\n",
       "\u001b[1m Row \u001b[0m│\u001b[1m sepal.length \u001b[0m\u001b[1m sepal.width \u001b[0m\u001b[1m petal.length \u001b[0m\u001b[1m petal.width \u001b[0m\u001b[1m variety  \u001b[0m\n",
       "\u001b[1m     \u001b[0m│\u001b[90m Float64      \u001b[0m\u001b[90m Float64     \u001b[0m\u001b[90m Float64      \u001b[0m\u001b[90m Float64     \u001b[0m\u001b[90m String15 \u001b[0m\n",
       "─────┼────────────────────────────────────────────────────────────────\n",
       "   1 │          5.0          3.0           2.0          0.1  Setosa\n",
       "   2 │          5.4          3.3           1.7          0.3  Setosa\n",
       "   3 │          6.6          3.6           1.6          1.7  Setosa\n",
       "   4 │          3.5          3.3           1.1          1.7  Setosa\n",
       "   5 │          4.0          3.0           1.9          1.2  Setosa\n",
       "   6 │          5.9          3.6           1.9          1.2  Setosa\n",
       "   7 │          4.2          3.3           1.6          1.1  Setosa\n",
       "   8 │          6.7          3.4           1.6          1.8  Setosa\n",
       "   9 │          6.8          3.7           1.1          0.7  Setosa\n",
       "  10 │          0.1          3.3           1.5          0.6  Setosa\n",
       "  11 │          0.6          3.6           1.5          0.7  Setosa\n",
       "  ⋮  │      ⋮             ⋮            ⋮             ⋮          ⋮\n",
       "  21 │          1.1          3.7           1.9          1.5  Setosa\n",
       "  22 │          4.1          3.7           1.1          0.6  Setosa\n",
       "  23 │          2.0          4.0           1.4          1.9  Setosa\n",
       "  24 │          3.2          3.7           1.9          1.6  Setosa\n",
       "  25 │          0.9          3.5           1.6          0.6  Setosa\n",
       "  26 │          4.3          3.3           1.6          1.1  Setosa\n",
       "  27 │          1.6          3.1           1.3          1.4  Setosa\n",
       "  28 │          3.5          3.8           1.2          0.2  Setosa\n",
       "  29 │          3.7          3.3           1.6          0.5  Setosa\n",
       "  30 │          3.0          3.9           1.1          1.9  Setosa\n",
       "\u001b[36m                                                        9 rows omitted\u001b[0m"
      ]
     },
     "execution_count": 130,
     "metadata": {},
     "output_type": "execute_result"
    }
   ],
   "source": [
    "Predict(predict,result)"
   ]
  },
  {
   "cell_type": "code",
   "execution_count": null,
   "id": "a580cb71",
   "metadata": {},
   "outputs": [],
   "source": []
  }
 ],
 "metadata": {
  "kernelspec": {
   "display_name": "Julia 1.6.3",
   "language": "julia",
   "name": "julia-1.6"
  },
  "language_info": {
   "file_extension": ".jl",
   "mimetype": "application/julia",
   "name": "julia",
   "version": "1.6.3"
  }
 },
 "nbformat": 4,
 "nbformat_minor": 5
}
